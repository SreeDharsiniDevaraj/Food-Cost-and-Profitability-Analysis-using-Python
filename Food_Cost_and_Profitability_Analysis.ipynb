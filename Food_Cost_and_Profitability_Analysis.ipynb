{
 "cells": [
  {
   "cell_type": "code",
   "execution_count": 1,
   "metadata": {},
   "outputs": [],
   "source": [
    "import pandas as pd"
   ]
  },
  {
   "cell_type": "code",
   "execution_count": 2,
   "metadata": {},
   "outputs": [],
   "source": [
    "data=pd.read_csv('food_orders_new_delhi.csv')"
   ]
  },
  {
   "cell_type": "code",
   "execution_count": 3,
   "metadata": {},
   "outputs": [
    {
     "data": {
      "text/html": [
       "<div>\n",
       "<style scoped>\n",
       "    .dataframe tbody tr th:only-of-type {\n",
       "        vertical-align: middle;\n",
       "    }\n",
       "\n",
       "    .dataframe tbody tr th {\n",
       "        vertical-align: top;\n",
       "    }\n",
       "\n",
       "    .dataframe thead th {\n",
       "        text-align: right;\n",
       "    }\n",
       "</style>\n",
       "<table border=\"1\" class=\"dataframe\">\n",
       "  <thead>\n",
       "    <tr style=\"text-align: right;\">\n",
       "      <th></th>\n",
       "      <th>Order ID</th>\n",
       "      <th>Customer ID</th>\n",
       "      <th>Restaurant ID</th>\n",
       "      <th>Order Date and Time</th>\n",
       "      <th>Delivery Date and Time</th>\n",
       "      <th>Order Value</th>\n",
       "      <th>Delivery Fee</th>\n",
       "      <th>Payment Method</th>\n",
       "      <th>Discounts and Offers</th>\n",
       "      <th>Commission Fee</th>\n",
       "      <th>Payment Processing Fee</th>\n",
       "      <th>Refunds/Chargebacks</th>\n",
       "    </tr>\n",
       "  </thead>\n",
       "  <tbody>\n",
       "    <tr>\n",
       "      <th>0</th>\n",
       "      <td>1</td>\n",
       "      <td>C8270</td>\n",
       "      <td>R2924</td>\n",
       "      <td>2024-02-01 01:11:52</td>\n",
       "      <td>2024-02-01 02:39:52</td>\n",
       "      <td>1914</td>\n",
       "      <td>0</td>\n",
       "      <td>Credit Card</td>\n",
       "      <td>5% on App</td>\n",
       "      <td>150</td>\n",
       "      <td>47</td>\n",
       "      <td>0</td>\n",
       "    </tr>\n",
       "    <tr>\n",
       "      <th>1</th>\n",
       "      <td>2</td>\n",
       "      <td>C1860</td>\n",
       "      <td>R2054</td>\n",
       "      <td>2024-02-02 22:11:04</td>\n",
       "      <td>2024-02-02 22:46:04</td>\n",
       "      <td>986</td>\n",
       "      <td>40</td>\n",
       "      <td>Digital Wallet</td>\n",
       "      <td>10%</td>\n",
       "      <td>198</td>\n",
       "      <td>23</td>\n",
       "      <td>0</td>\n",
       "    </tr>\n",
       "    <tr>\n",
       "      <th>2</th>\n",
       "      <td>3</td>\n",
       "      <td>C6390</td>\n",
       "      <td>R2870</td>\n",
       "      <td>2024-01-31 05:54:35</td>\n",
       "      <td>2024-01-31 06:52:35</td>\n",
       "      <td>937</td>\n",
       "      <td>30</td>\n",
       "      <td>Cash on Delivery</td>\n",
       "      <td>15% New User</td>\n",
       "      <td>195</td>\n",
       "      <td>45</td>\n",
       "      <td>0</td>\n",
       "    </tr>\n",
       "    <tr>\n",
       "      <th>3</th>\n",
       "      <td>4</td>\n",
       "      <td>C6191</td>\n",
       "      <td>R2642</td>\n",
       "      <td>2024-01-16 22:52:49</td>\n",
       "      <td>2024-01-16 23:38:49</td>\n",
       "      <td>1463</td>\n",
       "      <td>50</td>\n",
       "      <td>Cash on Delivery</td>\n",
       "      <td>NaN</td>\n",
       "      <td>146</td>\n",
       "      <td>27</td>\n",
       "      <td>0</td>\n",
       "    </tr>\n",
       "    <tr>\n",
       "      <th>4</th>\n",
       "      <td>5</td>\n",
       "      <td>C6734</td>\n",
       "      <td>R2799</td>\n",
       "      <td>2024-01-29 01:19:30</td>\n",
       "      <td>2024-01-29 02:48:30</td>\n",
       "      <td>1992</td>\n",
       "      <td>30</td>\n",
       "      <td>Cash on Delivery</td>\n",
       "      <td>50 off Promo</td>\n",
       "      <td>130</td>\n",
       "      <td>50</td>\n",
       "      <td>0</td>\n",
       "    </tr>\n",
       "  </tbody>\n",
       "</table>\n",
       "</div>"
      ],
      "text/plain": [
       "   Order ID Customer ID Restaurant ID  Order Date and Time  \\\n",
       "0         1       C8270         R2924  2024-02-01 01:11:52   \n",
       "1         2       C1860         R2054  2024-02-02 22:11:04   \n",
       "2         3       C6390         R2870  2024-01-31 05:54:35   \n",
       "3         4       C6191         R2642  2024-01-16 22:52:49   \n",
       "4         5       C6734         R2799  2024-01-29 01:19:30   \n",
       "\n",
       "  Delivery Date and Time  Order Value  Delivery Fee    Payment Method  \\\n",
       "0    2024-02-01 02:39:52         1914             0       Credit Card   \n",
       "1    2024-02-02 22:46:04          986            40    Digital Wallet   \n",
       "2    2024-01-31 06:52:35          937            30  Cash on Delivery   \n",
       "3    2024-01-16 23:38:49         1463            50  Cash on Delivery   \n",
       "4    2024-01-29 02:48:30         1992            30  Cash on Delivery   \n",
       "\n",
       "  Discounts and Offers  Commission Fee  Payment Processing Fee  \\\n",
       "0            5% on App             150                      47   \n",
       "1                  10%             198                      23   \n",
       "2         15% New User             195                      45   \n",
       "3                  NaN             146                      27   \n",
       "4         50 off Promo             130                      50   \n",
       "\n",
       "   Refunds/Chargebacks  \n",
       "0                    0  \n",
       "1                    0  \n",
       "2                    0  \n",
       "3                    0  \n",
       "4                    0  "
      ]
     },
     "execution_count": 3,
     "metadata": {},
     "output_type": "execute_result"
    }
   ],
   "source": [
    "data.head()"
   ]
  },
  {
   "cell_type": "code",
   "execution_count": 4,
   "metadata": {},
   "outputs": [
    {
     "data": {
      "text/html": [
       "<div>\n",
       "<style scoped>\n",
       "    .dataframe tbody tr th:only-of-type {\n",
       "        vertical-align: middle;\n",
       "    }\n",
       "\n",
       "    .dataframe tbody tr th {\n",
       "        vertical-align: top;\n",
       "    }\n",
       "\n",
       "    .dataframe thead th {\n",
       "        text-align: right;\n",
       "    }\n",
       "</style>\n",
       "<table border=\"1\" class=\"dataframe\">\n",
       "  <thead>\n",
       "    <tr style=\"text-align: right;\">\n",
       "      <th></th>\n",
       "      <th>Order ID</th>\n",
       "      <th>Customer ID</th>\n",
       "      <th>Restaurant ID</th>\n",
       "      <th>Order Date and Time</th>\n",
       "      <th>Delivery Date and Time</th>\n",
       "      <th>Order Value</th>\n",
       "      <th>Delivery Fee</th>\n",
       "      <th>Payment Method</th>\n",
       "      <th>Discounts and Offers</th>\n",
       "      <th>Commission Fee</th>\n",
       "      <th>Payment Processing Fee</th>\n",
       "      <th>Refunds/Chargebacks</th>\n",
       "    </tr>\n",
       "  </thead>\n",
       "  <tbody>\n",
       "    <tr>\n",
       "      <th>995</th>\n",
       "      <td>996</td>\n",
       "      <td>C6232</td>\n",
       "      <td>R2129</td>\n",
       "      <td>2024-01-14 05:57:00</td>\n",
       "      <td>2024-01-14 06:39:00</td>\n",
       "      <td>825</td>\n",
       "      <td>0</td>\n",
       "      <td>Digital Wallet</td>\n",
       "      <td>5% on App</td>\n",
       "      <td>165</td>\n",
       "      <td>47</td>\n",
       "      <td>50</td>\n",
       "    </tr>\n",
       "    <tr>\n",
       "      <th>996</th>\n",
       "      <td>997</td>\n",
       "      <td>C6797</td>\n",
       "      <td>R2742</td>\n",
       "      <td>2024-01-28 08:50:43</td>\n",
       "      <td>2024-01-28 10:10:43</td>\n",
       "      <td>1627</td>\n",
       "      <td>50</td>\n",
       "      <td>Cash on Delivery</td>\n",
       "      <td>NaN</td>\n",
       "      <td>110</td>\n",
       "      <td>42</td>\n",
       "      <td>0</td>\n",
       "    </tr>\n",
       "    <tr>\n",
       "      <th>997</th>\n",
       "      <td>998</td>\n",
       "      <td>C5926</td>\n",
       "      <td>R2837</td>\n",
       "      <td>2024-01-21 09:43:19</td>\n",
       "      <td>2024-01-21 10:44:19</td>\n",
       "      <td>553</td>\n",
       "      <td>20</td>\n",
       "      <td>Cash on Delivery</td>\n",
       "      <td>NaN</td>\n",
       "      <td>64</td>\n",
       "      <td>31</td>\n",
       "      <td>0</td>\n",
       "    </tr>\n",
       "    <tr>\n",
       "      <th>998</th>\n",
       "      <td>999</td>\n",
       "      <td>C7016</td>\n",
       "      <td>R2144</td>\n",
       "      <td>2024-01-30 22:23:38</td>\n",
       "      <td>2024-01-31 00:07:38</td>\n",
       "      <td>1414</td>\n",
       "      <td>0</td>\n",
       "      <td>Cash on Delivery</td>\n",
       "      <td>15% New User</td>\n",
       "      <td>199</td>\n",
       "      <td>34</td>\n",
       "      <td>0</td>\n",
       "    </tr>\n",
       "    <tr>\n",
       "      <th>999</th>\n",
       "      <td>1000</td>\n",
       "      <td>C4335</td>\n",
       "      <td>R2890</td>\n",
       "      <td>2024-01-08 14:46:43</td>\n",
       "      <td>2024-01-08 15:39:43</td>\n",
       "      <td>1657</td>\n",
       "      <td>20</td>\n",
       "      <td>Digital Wallet</td>\n",
       "      <td>15% New User</td>\n",
       "      <td>180</td>\n",
       "      <td>27</td>\n",
       "      <td>100</td>\n",
       "    </tr>\n",
       "  </tbody>\n",
       "</table>\n",
       "</div>"
      ],
      "text/plain": [
       "     Order ID Customer ID Restaurant ID  Order Date and Time  \\\n",
       "995       996       C6232         R2129  2024-01-14 05:57:00   \n",
       "996       997       C6797         R2742  2024-01-28 08:50:43   \n",
       "997       998       C5926         R2837  2024-01-21 09:43:19   \n",
       "998       999       C7016         R2144  2024-01-30 22:23:38   \n",
       "999      1000       C4335         R2890  2024-01-08 14:46:43   \n",
       "\n",
       "    Delivery Date and Time  Order Value  Delivery Fee    Payment Method  \\\n",
       "995    2024-01-14 06:39:00          825             0    Digital Wallet   \n",
       "996    2024-01-28 10:10:43         1627            50  Cash on Delivery   \n",
       "997    2024-01-21 10:44:19          553            20  Cash on Delivery   \n",
       "998    2024-01-31 00:07:38         1414             0  Cash on Delivery   \n",
       "999    2024-01-08 15:39:43         1657            20    Digital Wallet   \n",
       "\n",
       "    Discounts and Offers  Commission Fee  Payment Processing Fee  \\\n",
       "995            5% on App             165                      47   \n",
       "996                  NaN             110                      42   \n",
       "997                  NaN              64                      31   \n",
       "998         15% New User             199                      34   \n",
       "999         15% New User             180                      27   \n",
       "\n",
       "     Refunds/Chargebacks  \n",
       "995                   50  \n",
       "996                    0  \n",
       "997                    0  \n",
       "998                    0  \n",
       "999                  100  "
      ]
     },
     "execution_count": 4,
     "metadata": {},
     "output_type": "execute_result"
    }
   ],
   "source": [
    "data.tail()"
   ]
  },
  {
   "cell_type": "code",
   "execution_count": 5,
   "metadata": {},
   "outputs": [
    {
     "name": "stdout",
     "output_type": "stream",
     "text": [
      "<class 'pandas.core.frame.DataFrame'>\n",
      "RangeIndex: 1000 entries, 0 to 999\n",
      "Data columns (total 12 columns):\n",
      " #   Column                  Non-Null Count  Dtype \n",
      "---  ------                  --------------  ----- \n",
      " 0   Order ID                1000 non-null   int64 \n",
      " 1   Customer ID             1000 non-null   object\n",
      " 2   Restaurant ID           1000 non-null   object\n",
      " 3   Order Date and Time     1000 non-null   object\n",
      " 4   Delivery Date and Time  1000 non-null   object\n",
      " 5   Order Value             1000 non-null   int64 \n",
      " 6   Delivery Fee            1000 non-null   int64 \n",
      " 7   Payment Method          1000 non-null   object\n",
      " 8   Discounts and Offers    815 non-null    object\n",
      " 9   Commission Fee          1000 non-null   int64 \n",
      " 10  Payment Processing Fee  1000 non-null   int64 \n",
      " 11  Refunds/Chargebacks     1000 non-null   int64 \n",
      "dtypes: int64(6), object(6)\n",
      "memory usage: 93.9+ KB\n"
     ]
    }
   ],
   "source": [
    "data.info()"
   ]
  },
  {
   "cell_type": "code",
   "execution_count": 6,
   "metadata": {},
   "outputs": [
    {
     "data": {
      "text/plain": [
       "Order ID                    0\n",
       "Customer ID                 0\n",
       "Restaurant ID               0\n",
       "Order Date and Time         0\n",
       "Delivery Date and Time      0\n",
       "Order Value                 0\n",
       "Delivery Fee                0\n",
       "Payment Method              0\n",
       "Discounts and Offers      185\n",
       "Commission Fee              0\n",
       "Payment Processing Fee      0\n",
       "Refunds/Chargebacks         0\n",
       "dtype: int64"
      ]
     },
     "execution_count": 6,
     "metadata": {},
     "output_type": "execute_result"
    }
   ],
   "source": [
    "data.isnull().sum()"
   ]
  },
  {
   "cell_type": "code",
   "execution_count": 7,
   "metadata": {},
   "outputs": [],
   "source": [
    "from datetime import datetime"
   ]
  },
  {
   "cell_type": "code",
   "execution_count": 8,
   "metadata": {},
   "outputs": [],
   "source": [
    "#Data Cleaning\n",
    "# Converting Order Date and Time & Delivery Date and Time into DATE_TIME FORMAT\n",
    "data['Order Date and Time'] = pd.to_datetime(data['Order Date and Time'])\n",
    "data['Delivery Date and Time'] = pd.to_datetime(data['Delivery Date and Time'])"
   ]
  },
  {
   "cell_type": "code",
   "execution_count": 9,
   "metadata": {},
   "outputs": [
    {
     "data": {
      "text/html": [
       "<div>\n",
       "<style scoped>\n",
       "    .dataframe tbody tr th:only-of-type {\n",
       "        vertical-align: middle;\n",
       "    }\n",
       "\n",
       "    .dataframe tbody tr th {\n",
       "        vertical-align: top;\n",
       "    }\n",
       "\n",
       "    .dataframe thead th {\n",
       "        text-align: right;\n",
       "    }\n",
       "</style>\n",
       "<table border=\"1\" class=\"dataframe\">\n",
       "  <thead>\n",
       "    <tr style=\"text-align: right;\">\n",
       "      <th></th>\n",
       "      <th>Order ID</th>\n",
       "      <th>Customer ID</th>\n",
       "      <th>Restaurant ID</th>\n",
       "      <th>Order Date and Time</th>\n",
       "      <th>Delivery Date and Time</th>\n",
       "      <th>Order Value</th>\n",
       "      <th>Delivery Fee</th>\n",
       "      <th>Payment Method</th>\n",
       "      <th>Discounts and Offers</th>\n",
       "      <th>Commission Fee</th>\n",
       "      <th>Payment Processing Fee</th>\n",
       "      <th>Refunds/Chargebacks</th>\n",
       "    </tr>\n",
       "  </thead>\n",
       "  <tbody>\n",
       "    <tr>\n",
       "      <th>0</th>\n",
       "      <td>1</td>\n",
       "      <td>C8270</td>\n",
       "      <td>R2924</td>\n",
       "      <td>2024-02-01 01:11:52</td>\n",
       "      <td>2024-02-01 02:39:52</td>\n",
       "      <td>1914</td>\n",
       "      <td>0</td>\n",
       "      <td>Credit Card</td>\n",
       "      <td>5% on App</td>\n",
       "      <td>150</td>\n",
       "      <td>47</td>\n",
       "      <td>0</td>\n",
       "    </tr>\n",
       "    <tr>\n",
       "      <th>1</th>\n",
       "      <td>2</td>\n",
       "      <td>C1860</td>\n",
       "      <td>R2054</td>\n",
       "      <td>2024-02-02 22:11:04</td>\n",
       "      <td>2024-02-02 22:46:04</td>\n",
       "      <td>986</td>\n",
       "      <td>40</td>\n",
       "      <td>Digital Wallet</td>\n",
       "      <td>10%</td>\n",
       "      <td>198</td>\n",
       "      <td>23</td>\n",
       "      <td>0</td>\n",
       "    </tr>\n",
       "    <tr>\n",
       "      <th>2</th>\n",
       "      <td>3</td>\n",
       "      <td>C6390</td>\n",
       "      <td>R2870</td>\n",
       "      <td>2024-01-31 05:54:35</td>\n",
       "      <td>2024-01-31 06:52:35</td>\n",
       "      <td>937</td>\n",
       "      <td>30</td>\n",
       "      <td>Cash on Delivery</td>\n",
       "      <td>15% New User</td>\n",
       "      <td>195</td>\n",
       "      <td>45</td>\n",
       "      <td>0</td>\n",
       "    </tr>\n",
       "    <tr>\n",
       "      <th>3</th>\n",
       "      <td>4</td>\n",
       "      <td>C6191</td>\n",
       "      <td>R2642</td>\n",
       "      <td>2024-01-16 22:52:49</td>\n",
       "      <td>2024-01-16 23:38:49</td>\n",
       "      <td>1463</td>\n",
       "      <td>50</td>\n",
       "      <td>Cash on Delivery</td>\n",
       "      <td>NaN</td>\n",
       "      <td>146</td>\n",
       "      <td>27</td>\n",
       "      <td>0</td>\n",
       "    </tr>\n",
       "    <tr>\n",
       "      <th>4</th>\n",
       "      <td>5</td>\n",
       "      <td>C6734</td>\n",
       "      <td>R2799</td>\n",
       "      <td>2024-01-29 01:19:30</td>\n",
       "      <td>2024-01-29 02:48:30</td>\n",
       "      <td>1992</td>\n",
       "      <td>30</td>\n",
       "      <td>Cash on Delivery</td>\n",
       "      <td>50 off Promo</td>\n",
       "      <td>130</td>\n",
       "      <td>50</td>\n",
       "      <td>0</td>\n",
       "    </tr>\n",
       "  </tbody>\n",
       "</table>\n",
       "</div>"
      ],
      "text/plain": [
       "   Order ID Customer ID Restaurant ID Order Date and Time  \\\n",
       "0         1       C8270         R2924 2024-02-01 01:11:52   \n",
       "1         2       C1860         R2054 2024-02-02 22:11:04   \n",
       "2         3       C6390         R2870 2024-01-31 05:54:35   \n",
       "3         4       C6191         R2642 2024-01-16 22:52:49   \n",
       "4         5       C6734         R2799 2024-01-29 01:19:30   \n",
       "\n",
       "  Delivery Date and Time  Order Value  Delivery Fee    Payment Method  \\\n",
       "0    2024-02-01 02:39:52         1914             0       Credit Card   \n",
       "1    2024-02-02 22:46:04          986            40    Digital Wallet   \n",
       "2    2024-01-31 06:52:35          937            30  Cash on Delivery   \n",
       "3    2024-01-16 23:38:49         1463            50  Cash on Delivery   \n",
       "4    2024-01-29 02:48:30         1992            30  Cash on Delivery   \n",
       "\n",
       "  Discounts and Offers  Commission Fee  Payment Processing Fee  \\\n",
       "0            5% on App             150                      47   \n",
       "1                  10%             198                      23   \n",
       "2         15% New User             195                      45   \n",
       "3                  NaN             146                      27   \n",
       "4         50 off Promo             130                      50   \n",
       "\n",
       "   Refunds/Chargebacks  \n",
       "0                    0  \n",
       "1                    0  \n",
       "2                    0  \n",
       "3                    0  \n",
       "4                    0  "
      ]
     },
     "execution_count": 9,
     "metadata": {},
     "output_type": "execute_result"
    }
   ],
   "source": [
    "data.head()"
   ]
  },
  {
   "cell_type": "code",
   "execution_count": 10,
   "metadata": {},
   "outputs": [],
   "source": [
    "# Extracting Numeric values from 'Discount and Offers'\n",
    "def extract_discountValue(discount_string):\n",
    "    if isinstance(discount_string,str): # checks whether the value of the'discount_string' is a 'string'\n",
    "        if 'off' in discount_string: #Fixed Amount\n",
    "            return float(discount_string.split(' ')[0])\n",
    "        elif '%' in discount_string: #Percentage Amount\n",
    "            return float(discount_string.split('%')[0])\n",
    "        else: #No discount\n",
    "            return 0.0"
   ]
  },
  {
   "cell_type": "code",
   "execution_count": 11,
   "metadata": {},
   "outputs": [
    {
     "name": "stdout",
     "output_type": "stream",
     "text": [
      "   Order Value Discounts and Offers  Discount Percentage  Discount Amount\n",
      "0         1914            5% on App                  5.0            95.70\n",
      "1          986                  10%                 10.0            98.60\n",
      "2          937         15% New User                 15.0           140.55\n",
      "3         1463                  NaN                  0.0             0.00\n",
      "4         1992         50 off Promo                 50.0           996.00\n"
     ]
    }
   ],
   "source": [
    "# apply the function to create a new 'Discount Value' column\n",
    "data['Discount Percentage'] = data['Discounts and Offers'].apply(lambda x: extract_discountValue(x))\n",
    "\n",
    "# for percentage discounts, calculate the discount amount based on the order value\n",
    "data['Discount Amount'] = data.apply(lambda x: (x['Order Value'] * x['Discount Percentage'] / 100) if x['Discount Percentage'] > 1 else x['Discount Percentage'], axis=1)\n",
    "\n",
    "# adjust 'Discount Amount' for fixed discounts directly specified in the 'Discounts and Offers' column\n",
    "data['Discount Amount'] = data.apply(lambda x: x['Discount Amount'] if x['Discount Percentage'] <= 1 else x['Order Value'] * x['Discount Percentage'] / 100, axis=1)\n",
    "\n",
    "data['Discount Percentage'] = data['Discount Percentage'].fillna(0.0)\n",
    "data['Discount Amount'] = data['Discount Amount'].fillna(0.0)\n",
    "\n",
    "print(data[['Order Value', 'Discounts and Offers', 'Discount Percentage', 'Discount Amount']].head())"
   ]
  },
  {
   "cell_type": "code",
   "execution_count": 12,
   "metadata": {},
   "outputs": [
    {
     "name": "stdout",
     "output_type": "stream",
     "text": [
      "<class 'pandas.core.frame.DataFrame'>\n",
      "RangeIndex: 1000 entries, 0 to 999\n",
      "Data columns (total 14 columns):\n",
      " #   Column                  Non-Null Count  Dtype         \n",
      "---  ------                  --------------  -----         \n",
      " 0   Order ID                1000 non-null   int64         \n",
      " 1   Customer ID             1000 non-null   object        \n",
      " 2   Restaurant ID           1000 non-null   object        \n",
      " 3   Order Date and Time     1000 non-null   datetime64[ns]\n",
      " 4   Delivery Date and Time  1000 non-null   datetime64[ns]\n",
      " 5   Order Value             1000 non-null   int64         \n",
      " 6   Delivery Fee            1000 non-null   int64         \n",
      " 7   Payment Method          1000 non-null   object        \n",
      " 8   Discounts and Offers    815 non-null    object        \n",
      " 9   Commission Fee          1000 non-null   int64         \n",
      " 10  Payment Processing Fee  1000 non-null   int64         \n",
      " 11  Refunds/Chargebacks     1000 non-null   int64         \n",
      " 12  Discount Percentage     1000 non-null   float64       \n",
      " 13  Discount Amount         1000 non-null   float64       \n",
      "dtypes: datetime64[ns](2), float64(2), int64(6), object(4)\n",
      "memory usage: 109.5+ KB\n"
     ]
    }
   ],
   "source": [
    "data.info()"
   ]
  },
  {
   "cell_type": "markdown",
   "metadata": {},
   "source": [
    "# COST AND PROFITABILITY ANALYSIS"
   ]
  },
  {
   "cell_type": "code",
   "execution_count": 13,
   "metadata": {},
   "outputs": [],
   "source": [
    "# Delivery Fee, Commission Fee, Payment Processing Fee, #Discount Amount\n",
    "\n",
    "#COST - DELIVERY FEE, PAYMENT PROCESSING FEE, DISCOUNT AMOUNT\n",
    "#REVENUE - COMMISSION AMOUNT\n",
    "#PROFIT = REVENUE - TOTAL COSTS\n",
    "\n",
    "data['Total Costs'] = data['Delivery Fee']+data['Payment Processing Fee']+data['Discount Amount']\n",
    "data['Revenue'] = data['Commission Fee']\n",
    "data['Profit'] = data['Revenue']-data['Total Costs']"
   ]
  },
  {
   "cell_type": "code",
   "execution_count": 14,
   "metadata": {},
   "outputs": [
    {
     "name": "stdout",
     "output_type": "stream",
     "text": [
      "{'Total Orders': 1000, 'Total Revenue': np.int64(126990), 'Total Costs': np.float64(232709.85), 'Total Profit': np.float64(-105719.85)}\n"
     ]
    }
   ],
   "source": [
    "#Aggregate Data\n",
    "Total_Orders = data.shape[0] #Total row count(Number of Orders Count) 0-999--->1000\n",
    "Total_Revenue = data['Revenue'].sum()\n",
    "Total_Costs = data['Total Costs'].sum()\n",
    "Total_Profit = data['Profit'].sum()\n",
    "\n",
    "Aggregate_Data = {\n",
    "    \"Total Orders\" : Total_Orders,\n",
    "    \"Total Revenue\": Total_Revenue,\n",
    "    \"Total Costs\"  : Total_Costs,\n",
    "    \"Total Profit\" : Total_Profit\n",
    "}\n",
    "\n",
    "print(Aggregate_Data)"
   ]
  },
  {
   "cell_type": "code",
   "execution_count": null,
   "metadata": {},
   "outputs": [],
   "source": [
    "# Cost>Revenue"
   ]
  },
  {
   "cell_type": "code",
   "execution_count": 15,
   "metadata": {},
   "outputs": [],
   "source": [
    "import matplotlib.pyplot as plt"
   ]
  },
  {
   "cell_type": "markdown",
   "metadata": {},
   "source": [
    "# Histogram to plot Profits per Order"
   ]
  },
  {
   "cell_type": "code",
   "execution_count": 16,
   "metadata": {},
   "outputs": [
    {
     "data": {
      "image/png": "[encoded data removed]",
      "text/plain": [
       "<Figure size 640x480 with 1 Axes>"
      ]
     },
     "metadata": {},
     "output_type": "display_data"
    }
   ],
   "source": [
    "plt.hist(data['Profit'], bins=50, edgecolor='black')\n",
    "plt.title('Profit Distribution per Order')\n",
    "plt.xlabel('Profit')\n",
    "plt.ylabel('Number of orders')\n",
    "plt.axvline(data['Profit'].mean(), color='orange',linestyle='dashed')\n",
    "plt.show()"
   ]
  },
  {
   "cell_type": "code",
   "execution_count": null,
   "metadata": {},
   "outputs": [],
   "source": [
    "# orange dashed line - Average Profit\n",
    "# Most of the orders are in the Profit range below 0"
   ]
  },
  {
   "cell_type": "markdown",
   "metadata": {},
   "source": [
    "# Pie Chart for the Proportion of Total Costs"
   ]
  },
  {
   "cell_type": "code",
   "execution_count": 17,
   "metadata": {},
   "outputs": [
    {
     "data": {
      "image/png": "[encoded data removed]",
      "text/plain": [
       "<Figure size 640x480 with 1 Axes>"
      ]
     },
     "metadata": {},
     "output_type": "display_data"
    }
   ],
   "source": [
    "costs_breakdown = data[['Delivery Fee', 'Payment Processing Fee', 'Discount Amount']].sum()\n",
    "plt.pie(costs_breakdown, labels=costs_breakdown.index, autopct='%1.1f%%')\n",
    "plt.title('Proportion of Total Costs')\n",
    "plt.show()"
   ]
  },
  {
   "cell_type": "code",
   "execution_count": null,
   "metadata": {},
   "outputs": [],
   "source": [
    "#  Discount Amount marks the significant proportion towards Total Costs"
   ]
  },
  {
   "cell_type": "markdown",
   "metadata": {},
   "source": [
    "# Comparison of Total Revenue, Total Costs and Profit (Net Loss here)"
   ]
  },
  {
   "cell_type": "code",
   "execution_count": 18,
   "metadata": {},
   "outputs": [
    {
     "data": {
      "image/png": "[encoded data removed]",
      "text/plain": [
       "<Figure size 640x480 with 1 Axes>"
      ]
     },
     "metadata": {},
     "output_type": "display_data"
    }
   ],
   "source": [
    "totals = ['Total_Revenue','Total_Costs','Total_Profit']\n",
    "values = [Total_Revenue, Total_Costs, Total_Profit]\n",
    "plt.bar(totals, values, color=['blue','yellow','violet'])\n",
    "plt.title('Total Revenue, Costs and Profit')\n",
    "plt.ylabel('Amount (INR)')\n",
    "plt.show()"
   ]
  },
  {
   "cell_type": "code",
   "execution_count": null,
   "metadata": {},
   "outputs": [],
   "source": [
    "# Costs surpasses Revenue which leads to Total Loss"
   ]
  },
  {
   "cell_type": "markdown",
   "metadata": {},
   "source": [
    "# To find a New Strategy for Profitability\n",
    "# New Average Commission % based on Profiatable Orders\n",
    "# New Average Discount % for profitable orders"
   ]
  },
  {
   "cell_type": "code",
   "execution_count": 19,
   "metadata": {},
   "outputs": [
    {
     "name": "stdout",
     "output_type": "stream",
     "text": [
      "30.508436145149435 5.867469879518072\n"
     ]
    },
    {
     "name": "stderr",
     "output_type": "stream",
     "text": [
      "C:\\Users\\ADMIN\\AppData\\Local\\Temp\\ipykernel_8224\\3777034089.py:5: SettingWithCopyWarning: \n",
      "A value is trying to be set on a copy of a slice from a DataFrame.\n",
      "Try using .loc[row_indexer,col_indexer] = value instead\n",
      "\n",
      "See the caveats in the documentation: https://pandas.pydata.org/pandas-docs/stable/user_guide/indexing.html#returning-a-view-versus-a-copy\n",
      "  Profitable_Orders['Commission Percentage'] = (Profitable_Orders['Commission Fee']/Profitable_Orders['Order Value'])*100\n",
      "C:\\Users\\ADMIN\\AppData\\Local\\Temp\\ipykernel_8224\\3777034089.py:8: SettingWithCopyWarning: \n",
      "A value is trying to be set on a copy of a slice from a DataFrame.\n",
      "Try using .loc[row_indexer,col_indexer] = value instead\n",
      "\n",
      "See the caveats in the documentation: https://pandas.pydata.org/pandas-docs/stable/user_guide/indexing.html#returning-a-view-versus-a-copy\n",
      "  Profitable_Orders['Effective Discount Percentage'] = (Profitable_Orders['Discount Amount']/Profitable_Orders['Order Value'])*100\n"
     ]
    }
   ],
   "source": [
    "# Profitable Orders\n",
    "Profitable_Orders = data[data['Profit']>0]\n",
    "\n",
    "# Average Commission % for Profitable Orders\n",
    "Profitable_Orders['Commission Percentage'] = (Profitable_Orders['Commission Fee']/Profitable_Orders['Order Value'])*100\n",
    "\n",
    "# Average Discount %  for Profitable Orders\n",
    "Profitable_Orders['Effective Discount Percentage'] = (Profitable_Orders['Discount Amount']/Profitable_Orders['Order Value'])*100\n",
    "\n",
    "# Calculate New Averages\n",
    "new_avg_commission_percentage = Profitable_Orders['Commission Percentage'].mean()\n",
    "new_avg_discount_percentage = Profitable_Orders['Effective Discount Percentage'].mean()\n",
    "\n",
    "print(new_avg_commission_percentage,new_avg_discount_percentage)"
   ]
  },
  {
   "cell_type": "markdown",
   "metadata": {},
   "source": [
    "# New Average Commission Percenatage: 30.51%\n",
    "# New Average Discount Percentage: 5.87%"
   ]
  },
  {
   "cell_type": "code",
   "execution_count": 20,
   "metadata": {},
   "outputs": [
    {
     "name": "stdout",
     "output_type": "stream",
     "text": [
      "19.750890168545332 16.265\n"
     ]
    },
    {
     "name": "stderr",
     "output_type": "stream",
     "text": [
      "C:\\Users\\ADMIN\\AppData\\Local\\Temp\\ipykernel_8224\\3986087853.py:2: SettingWithCopyWarning: \n",
      "A value is trying to be set on a copy of a slice from a DataFrame.\n",
      "Try using .loc[row_indexer,col_indexer] = value instead\n",
      "\n",
      "See the caveats in the documentation: https://pandas.pydata.org/pandas-docs/stable/user_guide/indexing.html#returning-a-view-versus-a-copy\n",
      "  Orders['Commission Percentage'] = (data['Commission Fee']/data['Order Value'])*100\n",
      "C:\\Users\\ADMIN\\AppData\\Local\\Temp\\ipykernel_8224\\3986087853.py:3: SettingWithCopyWarning: \n",
      "A value is trying to be set on a copy of a slice from a DataFrame.\n",
      "Try using .loc[row_indexer,col_indexer] = value instead\n",
      "\n",
      "See the caveats in the documentation: https://pandas.pydata.org/pandas-docs/stable/user_guide/indexing.html#returning-a-view-versus-a-copy\n",
      "  Orders['Discount Percentage'] = (data['Discount Amount']/data['Order Value'])*100\n"
     ]
    }
   ],
   "source": [
    "Orders = data[['Profit']]\n",
    "Orders['Commission Percentage'] = (data['Commission Fee']/data['Order Value'])*100\n",
    "Orders['Discount Percentage'] = (data['Discount Amount']/data['Order Value'])*100\n",
    "\n",
    "avg_commission_percentage = Orders['Commission Percentage'].mean()\n",
    "avg_discount_percentage = Orders['Discount Percentage'].mean()\n",
    "\n",
    "print(avg_commission_percentage,avg_discount_percentage)"
   ]
  },
  {
   "cell_type": "markdown",
   "metadata": {},
   "source": [
    "                        All Orders  - Profitable Orders\n",
    "    Commission %          19.75            30.51\n",
    "\n",
    "    Discount %            16.27            5.87\n",
    "\n",
    "    # So a strategy aiming for a Commission Percentage around 30% and a Discount Percentage around 6% could increase the Profitability"
   ]
  },
  {
   "cell_type": "markdown",
   "metadata": {},
   "source": [
    "# Calculate Profitability per Order Using Actual Commission and Discount Rates\n",
    "# Simulate Profitability per Order for the Recommended Commission and Discount Rates to see the potential impact on Profitablility"
   ]
  },
  {
   "cell_type": "code",
   "execution_count": 22,
   "metadata": {},
   "outputs": [],
   "source": [
    "# simulating profitability with recommended discounts and commissions\n",
    "recommended_commission_percentage = 30.0  # 30%\n",
    "recommended_discount_percentage = 6.0    # 6%\n",
    "\n",
    "# calculating the simulated commission fee and discount amount using recommended percentages\n",
    "data['Simulated Commission Fee'] = data['Order Value'] * (recommended_commission_percentage / 100)\n",
    "data['Simulated Discount Amount'] = data['Order Value'] * (recommended_discount_percentage / 100)\n",
    "\n",
    "# recalculate total costs and profit with simulated values\n",
    "data['Simulated Total Costs'] = (data['Delivery Fee'] +\n",
    "                                        data['Payment Processing Fee'] +\n",
    "                                        data['Simulated Discount Amount'])\n",
    "\n",
    "data['Simulated Profit'] = (data['Simulated Commission Fee'] - data['Simulated Total Costs']) # Revenue - Costs"
   ]
  },
  {
   "cell_type": "code",
   "execution_count": 26,
   "metadata": {},
   "outputs": [
    {
     "data": {
      "image/png": "[encoded data removed]",
      "text/plain": [
       "<Figure size 1400x700 with 1 Axes>"
      ]
     },
     "metadata": {},
     "output_type": "display_data"
    }
   ],
   "source": [
    "# visualizing the comparison\n",
    "import seaborn as sns\n",
    "plt.figure(figsize=(14,7))\n",
    "# actual profitability \n",
    "# kde - kernel density estimation\n",
    "sns.kdeplot(data['Profit'], label='Actual Profitability',fill=True)\n",
    "\n",
    "# simulated profitability\n",
    "sns.kdeplot(data['Simulated Profit'], label='Estimated Profitability with Recommended Rates',fill=True)\n",
    "\n",
    "plt.title('Comparison of Distribution of Profitability in Food Delivery: Actual vs. Recommended Discounts and Commissions')\n",
    "plt.xlabel('Profit')\n",
    "plt.ylabel('Density')\n",
    "plt.legend(loc='upper left')\n",
    "plt.show()"
   ]
  },
  {
   "cell_type": "markdown",
   "metadata": {},
   "source": [
    "# The distribution is more skewed towards Positive Profit in the profitability distribution while computed using the recommended rates"
   ]
  }
 ],
 "metadata": {
  "kernelspec": {
   "display_name": "Python 3",
   "language": "python",
   "name": "python3"
  },
  "language_info": {
   "codemirror_mode": {
    "name": "ipython",
    "version": 3
   },
   "file_extension": ".py",
   "mimetype": "text/x-python",
   "name": "python",
   "nbconvert_exporter": "python",
   "pygments_lexer": "ipython3",
   "version": "3.12.8"
  }
 },
 "nbformat": 4,
 "nbformat_minor": 2
}
